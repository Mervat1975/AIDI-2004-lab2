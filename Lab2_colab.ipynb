{
  "nbformat": 4,
  "nbformat_minor": 0,
  "metadata": {
    "colab": {
      "name": "Lab2-colab.ipynb",
      "provenance": [],
      "authorship_tag": "ABX9TyOodJJGEjNjvbOwOIPkOj3F",
      "include_colab_link": true
    },
    "kernelspec": {
      "name": "python3",
      "display_name": "Python 3"
    },
    "language_info": {
      "name": "python"
    }
  },
  "cells": [
    {
      "cell_type": "markdown",
      "metadata": {
        "id": "view-in-github",
        "colab_type": "text"
      },
      "source": [
        "<a href=\"https://colab.research.google.com/github/Mervat1975/AIDI-2004-lab2/blob/main/Lab2_colab.ipynb\" target=\"_parent\"><img src=\"https://colab.research.google.com/assets/colab-badge.svg\" alt=\"Open In Colab\"/></a>"
      ]
    },
    {
      "cell_type": "code",
      "execution_count": 2,
      "metadata": {
        "colab": {
          "base_uri": "https://localhost:8080/"
        },
        "id": "0ScD2yz9BqrR",
        "outputId": "a63936ed-8399-4295-a18b-6338f3aa2f9e"
      },
      "outputs": [
        {
          "output_type": "stream",
          "name": "stdout",
          "text": [
            "hello Lab 2 from colab\n",
            "x= 10\n",
            "y= 20\n",
            "the sum of x and y is 30\n"
          ]
        }
      ],
      "source": [
        "print(\"hello Lab 2 from colab\")\n",
        "x=10\n",
        "y=20\n",
        "z=x+y\n",
        "print(\"x=\",x)\n",
        "print(\"y=\",y)\n",
        "print(\"the sum of x and y is\", z)\n"
      ]
    }
  ]
}